{
 "cells": [
  {
   "cell_type": "code",
   "execution_count": null,
   "id": "dacbbe87-a576-4a64-a388-2d686d283b74",
   "metadata": {},
   "outputs": [],
   "source": [
    "from detector_counter import run\n",
    "\n",
    "\n",
    "if __name__ == \"__main__\":\n",
    "  run()\n"
   ]
  }
 ],
 "metadata": {
  "kernelspec": {
   "display_name": "Python 3 (ipykernel)",
   "language": "python",
   "name": "python3"
  },
  "language_info": {
   "codemirror_mode": {
    "name": "ipython",
    "version": 3
   },
   "file_extension": ".py",
   "mimetype": "text/x-python",
   "name": "python",
   "nbconvert_exporter": "python",
   "pygments_lexer": "ipython3",
   "version": "3.9.12"
  }
 },
 "nbformat": 4,
 "nbformat_minor": 5
}
